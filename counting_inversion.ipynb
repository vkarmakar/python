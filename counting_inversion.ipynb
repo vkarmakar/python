{
 "cells": [
  {
   "cell_type": "code",
   "execution_count": 20,
   "metadata": {},
   "outputs": [],
   "source": [
    "def merge(list1, list2):\n",
    "    \n",
    "    if list1 is None:\n",
    "        list1 = []\n",
    "    if list2 is None:\n",
    "        list2 = []\n",
    "    \n",
    "    global inv\n",
    "    \n",
    "    m = len(list1)+len(list2)\n",
    "    \n",
    "    list = [0 for i in range(m)]\n",
    "    for k in range(m):\n",
    "        if not list1:\n",
    "            list[k] = list2[0]\n",
    "            list2 = list2[1:]\n",
    "        elif not list2:\n",
    "            list[k] = list1[0]\n",
    "            list1 = list1[1:]\n",
    "        elif list1[0] <= list2[0]:\n",
    "            list[k] = list1[0]\n",
    "            list1 = list1[1:]\n",
    "        else:\n",
    "            list[k] = list2[0]\n",
    "            list2 = list2[1:]\n",
    "            inv = inv + len(list1)\n",
    "            \n",
    "    return list"
   ]
  },
  {
   "cell_type": "code",
   "execution_count": 21,
   "metadata": {},
   "outputs": [],
   "source": [
    "def split(list):\n",
    "    x = int(round(len(list)/2,0))\n",
    "    list1 = list[:x]\n",
    "    list2 = list[x:]\n",
    "\n",
    "    return list1, list2"
   ]
  },
  {
   "cell_type": "code",
   "execution_count": 26,
   "metadata": {},
   "outputs": [],
   "source": [
    "def sort(list):\n",
    "    if len(list) == 1:\n",
    "        return list\n",
    "    else:\n",
    "        list1, list2 = split(list)\n",
    "        return merge(sort(list1), sort(list2))"
   ]
  },
  {
   "cell_type": "code",
   "execution_count": 31,
   "metadata": {},
   "outputs": [
    {
     "data": {
      "text/plain": [
       "[1, 2, 3, 4, 7, 8, 9]"
      ]
     },
     "execution_count": 31,
     "metadata": {},
     "output_type": "execute_result"
    }
   ],
   "source": [
    "inv = 0\n",
    "sort([3, 2, 1, 4, 9, 8, 7])"
   ]
  },
  {
   "cell_type": "code",
   "execution_count": 32,
   "metadata": {},
   "outputs": [
    {
     "name": "stdout",
     "output_type": "stream",
     "text": [
      "Number of conter inversion =  6\n"
     ]
    }
   ],
   "source": [
    "print(\"Number of conter inversion = \", inv)"
   ]
  },
  {
   "cell_type": "code",
   "execution_count": null,
   "metadata": {},
   "outputs": [],
   "source": []
  }
 ],
 "metadata": {
  "kernelspec": {
   "display_name": "Python 3",
   "language": "python",
   "name": "python3"
  },
  "language_info": {
   "codemirror_mode": {
    "name": "ipython",
    "version": 3
   },
   "file_extension": ".py",
   "mimetype": "text/x-python",
   "name": "python",
   "nbconvert_exporter": "python",
   "pygments_lexer": "ipython3",
   "version": "3.7.1"
  }
 },
 "nbformat": 4,
 "nbformat_minor": 2
}
