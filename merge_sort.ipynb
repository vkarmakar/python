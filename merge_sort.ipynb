{
 "cells": [
  {
   "cell_type": "code",
   "execution_count": 2,
   "metadata": {},
   "outputs": [],
   "source": [
    "def merge(list1, list2):\n",
    "\n",
    "    if list1 is None:\n",
    "        list1 = []\n",
    "    if list2 is None:\n",
    "        list2 = []\n",
    "    \n",
    "    m = len(list1)+len(list2)\n",
    "    list = [0 for i in range(m)]\n",
    "    for k in range(m):\n",
    "        if not list1:\n",
    "            list[k] = list2[0]\n",
    "            list2 = list2[1:]\n",
    "        elif not list2:\n",
    "            list[k] = list1[0]\n",
    "            list1 = list1[1:]\n",
    "        elif list1[0] <= list2[0]:\n",
    "            list[k] = list1[0]\n",
    "            list1 = list1[1:]\n",
    "        else:\n",
    "            list[k] = list2[0]\n",
    "            list2 = list2[1:]\n",
    "    return list"
   ]
  },
  {
   "cell_type": "code",
   "execution_count": 3,
   "metadata": {},
   "outputs": [],
   "source": [
    "def split(list):\n",
    "    x = int(round(len(list)/2,0))\n",
    "    list1 = list[:x]\n",
    "    list2 = list[x:]\n",
    "\n",
    "    return list1, list2"
   ]
  },
  {
   "cell_type": "code",
   "execution_count": 4,
   "metadata": {},
   "outputs": [],
   "source": [
    "def sort(list):\n",
    "    if len(list) == 1:\n",
    "        return list\n",
    "    else:\n",
    "        list1, list2 = split(list)\n",
    "        return merge(sort(list1), sort(list2))"
   ]
  },
  {
   "cell_type": "code",
   "execution_count": 7,
   "metadata": {},
   "outputs": [
    {
     "name": "stdout",
     "output_type": "stream",
     "text": [
      "[71, 77, 17, 59, 73, 15, 49, 8, 29, 16]\n"
     ]
    },
    {
     "data": {
      "text/plain": [
       "[8, 15, 16, 17, 29, 49, 59, 71, 73, 77]"
      ]
     },
     "execution_count": 7,
     "metadata": {},
     "output_type": "execute_result"
    }
   ],
   "source": [
    "import random\n",
    "list = random.sample(range(0,100), 10)\n",
    "print(list)\n",
    "sort(list)"
   ]
  },
  {
   "cell_type": "code",
   "execution_count": null,
   "metadata": {},
   "outputs": [],
   "source": []
  }
 ],
 "metadata": {
  "kernelspec": {
   "display_name": "Python 3",
   "language": "python",
   "name": "python3"
  },
  "language_info": {
   "codemirror_mode": {
    "name": "ipython",
    "version": 3
   },
   "file_extension": ".py",
   "mimetype": "text/x-python",
   "name": "python",
   "nbconvert_exporter": "python",
   "pygments_lexer": "ipython3",
   "version": "3.7.1"
  }
 },
 "nbformat": 4,
 "nbformat_minor": 2
}
