{
 "cells": [
  {
   "cell_type": "code",
   "execution_count": 44,
   "metadata": {
    "colab": {},
    "colab_type": "code",
    "id": "M3humezlKRev"
   },
   "outputs": [],
   "source": [
    "def multiply(x, y):\n",
    "    if len(str(x)) == 1 or len(str(y)) == 1:\n",
    "        return x * y\n",
    "    else:\n",
    "        a = int(str(x)[:int(round(len(str(x))/2,0))])\n",
    "        b = int(str(x)[int(round(len(str(x))/2,0)):])\n",
    "        c = int(str(y)[:int(round(len(str(y))/2,0))])\n",
    "        d = int(str(y)[int(round(len(str(y))/2,0)):])\n",
    "        #print(a, b, c, d)\n",
    "        b_len = int(len(str(x)))-int(round(len(str(x))/2,0))\n",
    "        d_len = int(len(str(y)))-int(round(len(str(y))/2,0))\n",
    "        m = (10**(b_len+d_len))*multiply(a, c)\n",
    "        n = multiply(b, d)\n",
    "        o = (10**b_len)*multiply(a, d)+(10**d_len)*multiply(c, b)\n",
    "        return m+n+o"
   ]
  },
  {
   "cell_type": "code",
   "execution_count": 47,
   "metadata": {},
   "outputs": [
    {
     "data": {
      "text/plain": [
       "6984309"
      ]
     },
     "execution_count": 47,
     "metadata": {},
     "output_type": "execute_result"
    }
   ],
   "source": [
    "multiply(123, 56783)"
   ]
  },
  {
   "cell_type": "code",
   "execution_count": null,
   "metadata": {},
   "outputs": [],
   "source": []
  }
 ],
 "metadata": {
  "colab": {
   "authorship_tag": "ABX9TyMSA0kO6/que6dEFmFF/sg0",
   "include_colab_link": true,
   "name": "Karatsuba",
   "provenance": []
  },
  "kernelspec": {
   "display_name": "Python 3",
   "language": "python",
   "name": "python3"
  },
  "language_info": {
   "codemirror_mode": {
    "name": "ipython",
    "version": 3
   },
   "file_extension": ".py",
   "mimetype": "text/x-python",
   "name": "python",
   "nbconvert_exporter": "python",
   "pygments_lexer": "ipython3",
   "version": "3.7.1"
  }
 },
 "nbformat": 4,
 "nbformat_minor": 1
}
