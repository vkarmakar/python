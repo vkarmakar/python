{
  "nbformat": 4,
  "nbformat_minor": 0,
  "metadata": {
    "colab": {
      "name": "person_class",
      "provenance": [],
      "authorship_tag": "ABX9TyNlujuQBMHdV8bcmf8vT4Ci",
      "include_colab_link": true
    },
    "kernelspec": {
      "name": "python3",
      "display_name": "Python 3"
    }
  },
  "cells": [
    {
      "cell_type": "markdown",
      "metadata": {
        "id": "view-in-github",
        "colab_type": "text"
      },
      "source": [
        "<a href=\"https://colab.research.google.com/github/vkarmakar/python/blob/master/person_class.ipynb\" target=\"_parent\"><img src=\"https://colab.research.google.com/assets/colab-badge.svg\" alt=\"Open In Colab\"/></a>"
      ]
    },
    {
      "cell_type": "code",
      "metadata": {
        "id": "LDNj5HyDhnG4",
        "colab_type": "code",
        "colab": {
          "base_uri": "https://localhost:8080/",
          "height": 135
        },
        "outputId": "414a9940-7d4c-4077-d5f9-0843ebd85a1b"
      },
      "source": [
        "class person(self, name, age, location):\n",
        "  def __init__(self):\n",
        "    self.name = name\n",
        "    self.age = age\n",
        "    self.location = location\n",
        "  def detail(self):\n",
        "    print(name \" is \" age \" years old and lives in \" location)\n",
        "\n",
        "if __init__ == \"__main__\":\n",
        "  vivek = person(\"vivek\", 44, \"Kolkata\")\n",
        "  anu = person(\"anu\", 14, \"kolkata\")\n",
        "  nuppr = person(\"nupur\", 43, \"kolkata\")\n",
        "  vivek.detail()\n",
        "  nupur.detail()\n",
        "  anu.detail()"
      ],
      "execution_count": 3,
      "outputs": [
        {
          "output_type": "error",
          "ename": "SyntaxError",
          "evalue": "ignored",
          "traceback": [
            "\u001b[0;36m  File \u001b[0;32m\"<ipython-input-3-08b05080f30d>\"\u001b[0;36m, line \u001b[0;32m7\u001b[0m\n\u001b[0;31m    print(name \" is \" age \" years old and lives in \" location)\u001b[0m\n\u001b[0m                    ^\u001b[0m\n\u001b[0;31mSyntaxError\u001b[0m\u001b[0;31m:\u001b[0m invalid syntax\n"
          ]
        }
      ]
    }
  ]
}