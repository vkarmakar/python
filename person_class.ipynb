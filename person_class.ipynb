{
 "cells": [
  {
   "cell_type": "code",
   "execution_count": 1,
   "metadata": {
    "colab": {
     "base_uri": "https://localhost:8080/",
     "height": 71
    },
    "colab_type": "code",
    "id": "LDNj5HyDhnG4",
    "outputId": "1158551b-024a-4361-f9f8-617052b209ab"
   },
   "outputs": [],
   "source": [
    "class person:\n",
    "  def __init__(self, name, age, location):\n",
    "    self.name = name\n",
    "    self.age = age\n",
    "    self.location = location\n",
    "  def detail(self):\n",
    "    print(self.name, \" is \", self.age, \" years old and lives in \", self.location)"
   ]
  },
  {
   "cell_type": "code",
   "execution_count": 2,
   "metadata": {},
   "outputs": [
    {
     "name": "stdout",
     "output_type": "stream",
     "text": [
      "Vivek  is  44  years old and lives in  Kolkata\n"
     ]
    }
   ],
   "source": [
    "person('Vivek', 44, 'Kolkata').detail()"
   ]
  },
  {
   "cell_type": "code",
   "execution_count": null,
   "metadata": {},
   "outputs": [],
   "source": []
  }
 ],
 "metadata": {
  "colab": {
   "authorship_tag": "ABX9TyNtAB6XbDLxRA1o2hVyDlLp",
   "include_colab_link": true,
   "name": "person_class",
   "provenance": []
  },
  "kernelspec": {
   "display_name": "Python 3",
   "language": "python",
   "name": "python3"
  },
  "language_info": {
   "codemirror_mode": {
    "name": "ipython",
    "version": 3
   },
   "file_extension": ".py",
   "mimetype": "text/x-python",
   "name": "python",
   "nbconvert_exporter": "python",
   "pygments_lexer": "ipython3",
   "version": "3.7.1"
  }
 },
 "nbformat": 4,
 "nbformat_minor": 1
}
