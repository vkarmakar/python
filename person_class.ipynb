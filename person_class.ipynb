{
  "nbformat": 4,
  "nbformat_minor": 0,
  "metadata": {
    "colab": {
      "name": "person_class",
      "provenance": [],
      "authorship_tag": "ABX9TyNtAB6XbDLxRA1o2hVyDlLp",
      "include_colab_link": true
    },
    "kernelspec": {
      "name": "python3",
      "display_name": "Python 3"
    }
  },
  "cells": [
    {
      "cell_type": "markdown",
      "metadata": {
        "id": "view-in-github",
        "colab_type": "text"
      },
      "source": [
        "<a href=\"https://colab.research.google.com/github/vkarmakar/python/blob/master/person_class.ipynb\" target=\"_parent\"><img src=\"https://colab.research.google.com/assets/colab-badge.svg\" alt=\"Open In Colab\"/></a>"
      ]
    },
    {
      "cell_type": "code",
      "metadata": {
        "id": "LDNj5HyDhnG4",
        "colab_type": "code",
        "colab": {
          "base_uri": "https://localhost:8080/",
          "height": 71
        },
        "outputId": "1158551b-024a-4361-f9f8-617052b209ab"
      },
      "source": [
        "class person:\n",
        "  def __init__(self, name, age, location):\n",
        "    self.name = name\n",
        "    self.age = age\n",
        "    self.location = location\n",
        "  def detail(self):\n",
        "    print(self.name, \" is \", self.age, \" years old and lives in \", self.location)\n",
        "\n",
        "if __name__ == \"__main__\":\n",
        "  vk = person(\"vivek\", 44, \"Kolkata\")\n",
        "  ak = person(\"anu\", 14, \"kolkata\")\n",
        "  nk = person(\"nupur\", 43, \"kolkata\")\n",
        "  vk.detail()\n",
        "  nk.detail()\n",
        "  ak.detail()"
      ],
      "execution_count": 13,
      "outputs": [
        {
          "output_type": "stream",
          "text": [
            "vivek  is  44  years old and lives in  Kolkata\n",
            "nupur  is  43  years old and lives in  kolkata\n",
            "anu  is  14  years old and lives in  kolkata\n"
          ],
          "name": "stdout"
        }
      ]
    }
  ]
}